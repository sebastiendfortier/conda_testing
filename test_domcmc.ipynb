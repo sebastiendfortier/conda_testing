{
 "cells": [
  {
   "cell_type": "code",
   "execution_count": null,
   "metadata": {},
   "outputs": [],
   "source": [
    "import domcmc"
   ]
  },
  {
   "cell_type": "code",
   "execution_count": null,
   "metadata": {},
   "outputs": [],
   "source": [
    "import domcmc.fst_tools as fst_tools\n",
    "fst_file = 'test_file.std'\n",
    "p0 = fst_tools.get_data(file_name=fst_file, var_name='TT')\n",
    "print(p0.keys())\n",
    "print(p0['values'].shape)\n"
   ]
  }
 ],
 "metadata": {
  "language_info": {
   "name": "python"
  }
 },
 "nbformat": 4,
 "nbformat_minor": 2
}
