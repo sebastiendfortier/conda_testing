{
 "cells": [
  {
   "cell_type": "code",
   "execution_count": null,
   "metadata": {},
   "outputs": [],
   "source": [
    "import spookipy\n",
    "import fstpy"
   ]
  },
  {
   "cell_type": "code",
   "execution_count": null,
   "metadata": {},
   "outputs": [],
   "source": [
    "df = fstpy.StandardFileReader('test_file.std').to_pandas()\n",
    "df.drop(columns='d')\n",
    "\n",
    "fstpy.voir(df)\n",
    "# compute uv on the selected records\n",
    "uv_df = spookipy.windmodulus(df).compute()\n",
    "uv_df.drop(columns='d')\n",
    "\n",
    "pres_df = spookipy.Pressure(df, reference_field='TT').compute()\n",
    "pres_df.drop(columns='d')\n",
    "\n",
    "tt_df = fstpy.select_with_meta(df, 'TT')\n",
    "fil_df = spookipy.FilterDigital(tt_df, filter=[1,2,1], repetitions=2).compute()"
   ]
  }
 ],
 "metadata": {
  "language_info": {
   "name": "python"
  }
 },
 "nbformat": 4,
 "nbformat_minor": 2
}
